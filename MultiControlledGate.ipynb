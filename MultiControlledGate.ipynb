{
  "nbformat": 4,
  "nbformat_minor": 0,
  "metadata": {
    "colab": {
      "provenance": [],
      "authorship_tag": "ABX9TyNgpvB0H9B8/5ICbP17EtwM"
    },
    "kernelspec": {
      "name": "python3",
      "display_name": "Python 3"
    },
    "language_info": {
      "name": "python"
    }
  },
  "cells": [
    {
      "cell_type": "code",
      "source": [
        "#necessary if running in Google Colab\n",
        "%pip install qiskit\n",
        "%pip install pylatexenc"
      ],
      "metadata": {
        "colab": {
          "base_uri": "https://localhost:8080/"
        },
        "id": "CiN2DfQwqLMt",
        "outputId": "3ccd13c6-0115-4b79-d9fa-f970209121d3"
      },
      "execution_count": 1,
      "outputs": [
        {
          "output_type": "stream",
          "name": "stdout",
          "text": [
            "Collecting qiskit\n",
            "  Downloading qiskit-2.2.1-cp39-abi3-manylinux2014_x86_64.manylinux_2_17_x86_64.whl.metadata (12 kB)\n",
            "Collecting rustworkx>=0.15.0 (from qiskit)\n",
            "  Downloading rustworkx-0.17.1-cp39-abi3-manylinux_2_17_x86_64.manylinux2014_x86_64.whl.metadata (10 kB)\n",
            "Requirement already satisfied: numpy<3,>=1.17 in /usr/local/lib/python3.12/dist-packages (from qiskit) (2.0.2)\n",
            "Requirement already satisfied: scipy>=1.5 in /usr/local/lib/python3.12/dist-packages (from qiskit) (1.16.2)\n",
            "Requirement already satisfied: dill>=0.3 in /usr/local/lib/python3.12/dist-packages (from qiskit) (0.3.8)\n",
            "Collecting stevedore>=3.0.0 (from qiskit)\n",
            "  Downloading stevedore-5.5.0-py3-none-any.whl.metadata (2.2 kB)\n",
            "Requirement already satisfied: typing-extensions in /usr/local/lib/python3.12/dist-packages (from qiskit) (4.15.0)\n",
            "Downloading qiskit-2.2.1-cp39-abi3-manylinux2014_x86_64.manylinux_2_17_x86_64.whl (8.0 MB)\n",
            "\u001b[2K   \u001b[90m━━━━━━━━━━━━━━━━━━━━━━━━━━━━━━━━━━━━━━━━\u001b[0m \u001b[32m8.0/8.0 MB\u001b[0m \u001b[31m21.3 MB/s\u001b[0m eta \u001b[36m0:00:00\u001b[0m\n",
            "\u001b[?25hDownloading rustworkx-0.17.1-cp39-abi3-manylinux_2_17_x86_64.manylinux2014_x86_64.whl (2.2 MB)\n",
            "\u001b[2K   \u001b[90m━━━━━━━━━━━━━━━━━━━━━━━━━━━━━━━━━━━━━━━━\u001b[0m \u001b[32m2.2/2.2 MB\u001b[0m \u001b[31m19.1 MB/s\u001b[0m eta \u001b[36m0:00:00\u001b[0m\n",
            "\u001b[?25hDownloading stevedore-5.5.0-py3-none-any.whl (49 kB)\n",
            "\u001b[2K   \u001b[90m━━━━━━━━━━━━━━━━━━━━━━━━━━━━━━━━━━━━━━━━\u001b[0m \u001b[32m49.5/49.5 kB\u001b[0m \u001b[31m1.8 MB/s\u001b[0m eta \u001b[36m0:00:00\u001b[0m\n",
            "\u001b[?25hInstalling collected packages: stevedore, rustworkx, qiskit\n",
            "Successfully installed qiskit-2.2.1 rustworkx-0.17.1 stevedore-5.5.0\n",
            "Collecting pylatexenc\n",
            "  Downloading pylatexenc-2.10.tar.gz (162 kB)\n",
            "\u001b[2K     \u001b[90m━━━━━━━━━━━━━━━━━━━━━━━━━━━━━━━━━━━━━━\u001b[0m \u001b[32m162.6/162.6 kB\u001b[0m \u001b[31m15.1 MB/s\u001b[0m eta \u001b[36m0:00:00\u001b[0m\n",
            "\u001b[?25h  Preparing metadata (setup.py) ... \u001b[?25l\u001b[?25hdone\n",
            "Building wheels for collected packages: pylatexenc\n",
            "  Building wheel for pylatexenc (setup.py) ... \u001b[?25l\u001b[?25hdone\n",
            "  Created wheel for pylatexenc: filename=pylatexenc-2.10-py3-none-any.whl size=136817 sha256=2e47029acf30397ab0fcb4df39d98c7c3a9f5a9bfe5f71ff791704e777bb49da\n",
            "  Stored in directory: /root/.cache/pip/wheels/06/3e/78/fa1588c1ae991bbfd814af2bcac6cef7a178beee1939180d46\n",
            "Successfully built pylatexenc\n",
            "Installing collected packages: pylatexenc\n",
            "Successfully installed pylatexenc-2.10\n"
          ]
        }
      ]
    },
    {
      "cell_type": "code",
      "execution_count": 2,
      "metadata": {
        "id": "O49_xBrPb7Yv"
      },
      "outputs": [],
      "source": [
        "from qiskit.circuit import QuantumCircuit, QuantumRegister, AncillaRegister, Qubit\n",
        "from qiskit.quantum_info import Statevector, Operator, random_unitary\n",
        "\n",
        "from qiskit.circuit.library.standard_gates import HGate, XGate\n",
        "from qiskit.circuit.library import RYGate, RZGate\n",
        "\n",
        "import matplotlib.pyplot as plt\n",
        "\n",
        "import numpy as np"
      ]
    },
    {
      "cell_type": "markdown",
      "source": [
        "#Z-Y Decomposition\n",
        "\n",
        "Recall the following single qubit gates:\n",
        "\n",
        "$R_y(\\theta) =\n",
        "\\begin{bmatrix}\n",
        "  \\cos(\\frac\\theta2) & -\\sin(\\frac\\theta2) \\\\\n",
        "  \\sin(\\frac\\theta2) & \\cos(\\frac\\theta2)\n",
        "\\end{bmatrix}$\n",
        "\n",
        "$R_z(\\theta) =\n",
        "\\begin{bmatrix}\n",
        "  e^{-i\\theta/2} & 0 \\\\\n",
        "  0 & e^{i\\theta/2}\n",
        "\\end{bmatrix}\n",
        "$\n",
        "\n",
        "The implementation of multi-controlled gates depends on the fact for any unitary $U$, there exist real numbers $\\alpha, \\beta, \\gamma, \\delta$ such that\n",
        "$U = e^{i\\alpha}R_z(\\beta)R_y(\\gamma)R_z(\\delta)$."
      ],
      "metadata": {
        "id": "62Qp7gQ47RYt"
      }
    },
    {
      "cell_type": "code",
      "source": [
        "def ZYDecomposition(U):\n",
        "  w,x,y,z = U[0][0], U[0][1], U[1][0], U[1][1]\n",
        "\n",
        "  gamma = 2*np.arccos(np.absolute(w))\n",
        "  a = np.angle(w)\n",
        "  b = np.angle(y/np.sin(gamma/2))\n",
        "  c = np.angle(z)\n",
        "  alpha = (a + c)/2\n",
        "  beta = b-a\n",
        "  delta = c-b\n",
        "\n",
        "  return alpha, beta, gamma, delta\n",
        "\n",
        "U = random_unitary(2).to_matrix()\n",
        "alpha, beta, gamma, delta = ZYDecomposition(U)\n",
        "U2 = np.exp(1j*alpha)*RZGate(beta).to_matrix() @ RYGate(gamma).to_matrix() @ RZGate(delta).to_matrix()"
      ],
      "metadata": {
        "id": "vQgpX4OU9il0"
      },
      "execution_count": 3,
      "outputs": []
    },
    {
      "cell_type": "code",
      "source": [
        "#lets decompose a random unitary matrix\n",
        "U = random_unitary(2).to_matrix()\n",
        "U"
      ],
      "metadata": {
        "colab": {
          "base_uri": "https://localhost:8080/"
        },
        "id": "6OLSGKKVDyrg",
        "outputId": "4d61246d-6643-4003-a6ec-e7e0bfdae776"
      },
      "execution_count": 8,
      "outputs": [
        {
          "output_type": "execute_result",
          "data": {
            "text/plain": [
              "array([[-0.04697865-0.21863566j, -0.76455572+0.60452131j],\n",
              "       [-0.55416045+0.80180898j, -0.22120186-0.03283725j]])"
            ]
          },
          "metadata": {},
          "execution_count": 8
        }
      ]
    },
    {
      "cell_type": "code",
      "source": [
        "alpha, beta, gamma, delta = ZYDecomposition(U)\n",
        "Z1 = RZGate(beta).to_matrix()\n",
        "Y = RYGate(gamma).to_matrix()\n",
        "Z2 = RZGate(delta).to_matrix()\n",
        "U2 = np.exp(1j*alpha)*Z1 @ Y @ Z2\n",
        "U2"
      ],
      "metadata": {
        "colab": {
          "base_uri": "https://localhost:8080/"
        },
        "id": "rdZ0-wFdD4GB",
        "outputId": "ad297af0-0206-4134-9722-e10bbbc4e0f6"
      },
      "execution_count": 9,
      "outputs": [
        {
          "output_type": "execute_result",
          "data": {
            "text/plain": [
              "array([[-0.04697865-0.21863566j, -0.76455572+0.60452131j],\n",
              "       [-0.55416045+0.80180898j, -0.22120186-0.03283725j]])"
            ]
          },
          "metadata": {},
          "execution_count": 9
        }
      ]
    },
    {
      "cell_type": "markdown",
      "source": [
        "#Singly-Controlled Gate\n",
        "\n",
        "Given a single qubit gate $U$, we can implement the controlled version $CU$ by first obtaining $\\alpha, \\beta, \\gamma, \\delta$ as above and then noticing that for\n",
        "\n",
        "$A := R_z(\\beta)R_y(\\frac\\gamma 2)$\n",
        "\n",
        "$B := R_y(\\frac{-\\gamma} 2)R_z(\\frac{-\\delta - \\beta} 2)$\n",
        "\n",
        "$C := R_z(\\frac{\\delta - \\beta}2)$\n",
        "\n",
        "we have $ABC = I$ and $e^{i\\alpha}AXBXC = U$."
      ],
      "metadata": {
        "id": "CJAHhCYGEYbK"
      }
    },
    {
      "cell_type": "code",
      "source": [
        "def SingleControlledGate(U):\n",
        "  alpha, beta, gamma, delta = ZYDecomposition(U)\n",
        "  A = RZGate(beta).to_matrix() @ RYGate(gamma/2).to_matrix()\n",
        "  B = RYGate(-gamma/2).to_matrix() @ RZGate(-(delta + beta)/2).to_matrix()\n",
        "  C = RZGate((delta-beta)/2).to_matrix()\n",
        "\n",
        "  register = QuantumRegister(2,name=\"x\")\n",
        "  CU = QuantumCircuit(register)\n",
        "  #apply C\n",
        "  CU.rz((delta-beta)/2, register[1])\n",
        "  #apply controlled X\n",
        "  CU.cx(register[0], register[1])\n",
        "  #apply B\n",
        "  CU.rz((-delta-beta)/2, register[1])\n",
        "  CU.ry(-gamma/2, register[1])\n",
        "  #apply controlled X\n",
        "  CU.cx(register[0], register[1])\n",
        "  #apply A\n",
        "  CU.ry(gamma/2, register[1])\n",
        "  CU.rz(beta, register[1])\n",
        "  CU.p(alpha, register[0])\n",
        "\n",
        "  return CU"
      ],
      "metadata": {
        "id": "3Bp-BdxGLThJ"
      },
      "execution_count": 19,
      "outputs": []
    },
    {
      "cell_type": "code",
      "source": [
        "#let's confirm this implementation works\n",
        "U = random_unitary(2).to_matrix()\n",
        "U"
      ],
      "metadata": {
        "colab": {
          "base_uri": "https://localhost:8080/"
        },
        "id": "uhieu6Gmz59Q",
        "outputId": "6ccb8a21-2be3-4fe9-f854-c7860342ca01"
      },
      "execution_count": 27,
      "outputs": [
        {
          "output_type": "execute_result",
          "data": {
            "text/plain": [
              "array([[ 0.73047212-0.64200732j,  0.19755796-0.12332044j],\n",
              "       [-0.10957874-0.20549837j,  0.31227036+0.92100496j]])"
            ]
          },
          "metadata": {},
          "execution_count": 27
        }
      ]
    },
    {
      "cell_type": "code",
      "source": [
        "CU = SingleControlledGate(U)\n",
        "CU.draw(output=\"mpl\", style=\"bw\")"
      ],
      "metadata": {
        "colab": {
          "base_uri": "https://localhost:8080/",
          "height": 191
        },
        "id": "gV1qMlHz0A6o",
        "outputId": "ec31567d-4cd1-4f2b-ec53-993ded4cfdd9"
      },
      "execution_count": 28,
      "outputs": [
        {
          "output_type": "execute_result",
          "data": {
            "text/plain": [
              "<Figure size 704.148x200.667 with 1 Axes>"
            ],
            "image/png": "[encoded data removed]"
          },
          "metadata": {},
          "execution_count": 28
        }
      ]
    },
    {
      "cell_type": "code",
      "source": [
        "np.round(Operator(CU).data, 3)"
      ],
      "metadata": {
        "colab": {
          "base_uri": "https://localhost:8080/"
        },
        "id": "c-J-A6ly0Owa",
        "outputId": "5fbb9477-60c8-468e-fecb-810e39e0d7a8"
      },
      "execution_count": 33,
      "outputs": [
        {
          "output_type": "execute_result",
          "data": {
            "text/plain": [
              "array([[ 1.   -0.j   ,  0.   +0.j   , -0.   -0.j   ,  0.   +0.j   ],\n",
              "       [ 0.   +0.j   ,  0.73 -0.642j,  0.   +0.j   ,  0.198-0.123j],\n",
              "       [ 0.   -0.j   ,  0.   +0.j   ,  1.   +0.j   ,  0.   +0.j   ],\n",
              "       [ 0.   +0.j   , -0.11 -0.205j,  0.   +0.j   ,  0.312+0.921j]])"
            ]
          },
          "metadata": {},
          "execution_count": 33
        }
      ]
    },
    {
      "cell_type": "markdown",
      "source": [
        "#Multi-Controlled Gate\n",
        "\n",
        "Given an array of qubits (controls) and a quantum gate (U) returns the controlled version of U."
      ],
      "metadata": {
        "id": "pV9K7njkxocH"
      }
    },
    {
      "cell_type": "code",
      "source": [
        "#given a 2x2 unitary matrix U,\n",
        "#returns a list [alpha, A, B, C]\n",
        "#where U = exp(i*alpha)AXBXC and\n",
        "#ABC = I\n",
        "def ABCDecomposition(U):\n",
        "  w,x,y,z = U[0][0], U[0][1], U[1][0], U[1][1]\n",
        "  gamma = 2*np.arccos(np.absolute(w))\n",
        "  alpha = (np.angle(x) + np.angle(w))/2\n",
        "  beta = (np.angle(z) - np.angle(x))\n",
        "  delta = 2*(np.angle(w) - alpha - beta/2)\n",
        "\n",
        "  A = RZGate(beta).to_matrix() @ RYGate(gamma/2).to_matrix()\n",
        "  B = RYGate(-gamma/2).to_matrix() @ RZGate(-(delta + beta)/2).to_matrix()\n",
        "  C = RZGate((delta-beta)/2).to_matrix()\n",
        "\n",
        "  print(alpha, beta, gamma, delta)\n",
        "\n",
        "  return [alpha, A, B, C]\n"
      ],
      "metadata": {
        "id": "aNcmhZCbE865"
      },
      "execution_count": null,
      "outputs": []
    },
    {
      "cell_type": "code",
      "source": [
        "M = np.array([[1,1],[1,-1]])/np.sqrt(2)\n",
        "\n",
        "M[1][0]\n",
        "\n",
        "np.angle(10)"
      ],
      "metadata": {
        "colab": {
          "base_uri": "https://localhost:8080/"
        },
        "id": "VxVqkXOCQwZS",
        "outputId": "f26b5e58-c896-44f8-826d-654975f711ca"
      },
      "execution_count": null,
      "outputs": [
        {
          "output_type": "execute_result",
          "data": {
            "text/plain": [
              "np.float64(0.0)"
            ]
          },
          "metadata": {},
          "execution_count": 104
        }
      ]
    },
    {
      "cell_type": "code",
      "source": [
        "alpha, A,B,C = ABCDecomposition(M)\n",
        "\n",
        "X = np.array([[0,1],[1,0]])\n",
        "print(\"alpha = \", alpha)\n",
        "print(\"A = \", np.round(A,3))\n",
        "print(\"B = \", np.round(B,3))\n",
        "print(\"C = \", np.round(C,3))\n",
        "print(np.round(A @ B @ C))\n",
        "print(np.round(A @ X @ B @ X @ C))"
      ],
      "metadata": {
        "colab": {
          "base_uri": "https://localhost:8080/"
        },
        "id": "DIfErdc-O1Zh",
        "outputId": "0c147b61-b501-4ea0-e9be-e2258ce023a9"
      },
      "execution_count": null,
      "outputs": [
        {
          "output_type": "stream",
          "name": "stdout",
          "text": [
            "0.0 3.141592653589793 1.5707963267948968 -3.141592653589793\n",
            "alpha =  0.0\n",
            "A =  [[ 0.-0.924j -0.+0.383j]\n",
            " [ 0.+0.383j  0.+0.924j]]\n",
            "B =  [[ 0.924+0.j  0.383+0.j]\n",
            " [-0.383+0.j  0.924+0.j]]\n",
            "C =  [[0.+1.j 0.+0.j]\n",
            " [0.+0.j 0.-1.j]]\n",
            "[[ 1.+0.j -0.+0.j]\n",
            " [-0.+0.j  1.+0.j]]\n",
            "[[ 1.+0.j  1.+0.j]\n",
            " [-1.+0.j  1.+0.j]]\n"
          ]
        }
      ]
    },
    {
      "cell_type": "code",
      "source": [
        "def MultiControlledGate(n ,U):\n",
        "  control_register = QuantumRegister(size=n, name=\"x\")\n",
        "  ancilla_register = AncillaRegister(size=n-1, name=\"a\")\n",
        "  target_register = QuantumRegister(size=1, name=\"t\")\n",
        "\n",
        "  #prepares a subroutine which stores the conjunction of all the x[i]s in a[n-2]\n",
        "  setup = QuantumCircuit(control_register, ancilla_register, name=\"setup\")\n",
        "  setup.ccx(control_register[0], control_register[1], ancilla_register[0])\n",
        "  for i in range(2, n):\n",
        "    setup.ccx(control_register[i], ancilla_register[i-2], ancilla_register[i-1])\n",
        "\n",
        "  final = QuantumCircuit(control_register, ancilla_register, target_register, name=\"multicontrolledU\")\n",
        "  final.compose(setup, inplace=True)\n",
        "  final.append(U.control(1), [ancilla_register[n-2], target_register[0]])\n",
        "  final.compose(setup.inverse(), inplace=True)\n",
        "\n",
        "  return final\n",
        "\n",
        "MultiControlledGate(3,HGate()).draw(output=\"mpl\", style=\"bw\")"
      ],
      "metadata": {
        "id": "s_udlFuMxfki",
        "colab": {
          "base_uri": "https://localhost:8080/",
          "height": 449
        },
        "outputId": "a0e3f37f-0436-4d88-fc23-f36135565589"
      },
      "execution_count": null,
      "outputs": [
        {
          "output_type": "execute_result",
          "data": {
            "text/plain": [
              "<Figure size 537.724x535.111 with 1 Axes>"
            ],
            "image/png": "[encoded data removed]"
          },
          "metadata": {},
          "execution_count": 38
        }
      ]
    },
    {
      "cell_type": "markdown",
      "source": [
        "This method is useful because the number of gates used is linear in the number of control qubits. The downside is that the number of ancilla qubits used is also linear in the number of control qubits.\n",
        "\n",
        "Below we give another implementation, in which the number of gates is still linear in the number of control qubits, but now now only two ancilla qubits are used."
      ],
      "metadata": {
        "id": "ckLZbhel9_R8"
      }
    },
    {
      "cell_type": "code",
      "source": [
        "def Flip_Base():\n",
        "  a_register = QuantumRegister(size=2, name = \"a\")\n",
        "  b_register = QuantumRegister(size=1, name = \"b\")\n",
        "  F = QuantumCircuit(a_register, b_register)\n",
        "  F.ccx(a_register[0], a_register[1], b_register[0])\n",
        "  return F\n",
        "\n",
        "def Flip(n):\n",
        "  if n == 2:\n",
        "    return Flip_Base()\n",
        "  a_register = QuantumRegister(size=n, name = \"a\")\n",
        "  b_register = QuantumRegister(size=n-1, name = \"b\")\n",
        "  F = QuantumCircuit(a_register, b_register)\n",
        "  F.ccx(a_register[n-1], b_register[n-3], b_register[n-2])\n",
        "  F.compose(Flip(n-1))\n",
        "  F.ccx(a_register[n-1], b_register[n-3], b_register[n-2])\n",
        "  return F\n",
        "\n",
        "Flip(4).draw(output=\"mpl\", style=\"bw\")"
      ],
      "metadata": {
        "colab": {
          "base_uri": "https://localhost:8080/",
          "height": 513
        },
        "id": "TiMI9yJGMPeG",
        "outputId": "445ce621-f9db-4553-b570-174348ad2bca"
      },
      "execution_count": null,
      "outputs": [
        {
          "output_type": "execute_result",
          "data": {
            "text/plain": [
              "<Figure size 287.698x618.722 with 1 Axes>"
            ],
            "image/png": "[encoded data removed]"
          },
          "metadata": {},
          "execution_count": 49
        }
      ]
    }
  ]
}