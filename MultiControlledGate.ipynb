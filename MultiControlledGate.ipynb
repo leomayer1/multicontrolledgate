{
  "nbformat": 4,
  "nbformat_minor": 0,
  "metadata": {
    "colab": {
      "provenance": [],
      "authorship_tag": "ABX9TyNrqRhZU+G3zTQZP7uTCz5X",
      "include_colab_link": true
    },
    "kernelspec": {
      "name": "python3",
      "display_name": "Python 3"
    },
    "language_info": {
      "name": "python"
    }
  },
  "cells": [
    {
      "cell_type": "markdown",
      "metadata": {
        "id": "view-in-github",
        "colab_type": "text"
      },
      "source": [
        "<a href=\"https://colab.research.google.com/github/leomayer1/multicontrolledgate/blob/main/MultiControlledGate.ipynb\" target=\"_parent\"><img src=\"https://colab.research.google.com/assets/colab-badge.svg\" alt=\"Open In Colab\"/></a>"
      ]
    },
    {
      "cell_type": "code",
      "source": [
        "#necessary if running in Google Colab\n",
        "%pip install qiskit\n",
        "%pip install pylatexenc"
      ],
      "metadata": {
        "colab": {
          "base_uri": "https://localhost:8080/"
        },
        "id": "CiN2DfQwqLMt",
        "outputId": "7b2d32b1-1ae4-4abb-9de1-8b79707ba46b",
        "collapsed": true
      },
      "execution_count": null,
      "outputs": [
        {
          "output_type": "stream",
          "name": "stdout",
          "text": [
            "Collecting qiskit\n",
            "  Downloading qiskit-2.2.1-cp39-abi3-manylinux2014_x86_64.manylinux_2_17_x86_64.whl.metadata (12 kB)\n",
            "Collecting rustworkx>=0.15.0 (from qiskit)\n",
            "  Downloading rustworkx-0.17.1-cp39-abi3-manylinux_2_17_x86_64.manylinux2014_x86_64.whl.metadata (10 kB)\n",
            "Requirement already satisfied: numpy<3,>=1.17 in /usr/local/lib/python3.12/dist-packages (from qiskit) (2.0.2)\n",
            "Requirement already satisfied: scipy>=1.5 in /usr/local/lib/python3.12/dist-packages (from qiskit) (1.16.2)\n",
            "Requirement already satisfied: dill>=0.3 in /usr/local/lib/python3.12/dist-packages (from qiskit) (0.3.8)\n",
            "Collecting stevedore>=3.0.0 (from qiskit)\n",
            "  Downloading stevedore-5.5.0-py3-none-any.whl.metadata (2.2 kB)\n",
            "Requirement already satisfied: typing-extensions in /usr/local/lib/python3.12/dist-packages (from qiskit) (4.15.0)\n",
            "Downloading qiskit-2.2.1-cp39-abi3-manylinux2014_x86_64.manylinux_2_17_x86_64.whl (8.0 MB)\n",
            "\u001b[2K   \u001b[90m━━━━━━━━━━━━━━━━━━━━━━━━━━━━━━━━━━━━━━━━\u001b[0m \u001b[32m8.0/8.0 MB\u001b[0m \u001b[31m29.5 MB/s\u001b[0m eta \u001b[36m0:00:00\u001b[0m\n",
            "\u001b[?25hDownloading rustworkx-0.17.1-cp39-abi3-manylinux_2_17_x86_64.manylinux2014_x86_64.whl (2.2 MB)\n",
            "\u001b[2K   \u001b[90m━━━━━━━━━━━━━━━━━━━━━━━━━━━━━━━━━━━━━━━━\u001b[0m \u001b[32m2.2/2.2 MB\u001b[0m \u001b[31m24.4 MB/s\u001b[0m eta \u001b[36m0:00:00\u001b[0m\n",
            "\u001b[?25hDownloading stevedore-5.5.0-py3-none-any.whl (49 kB)\n",
            "\u001b[2K   \u001b[90m━━━━━━━━━━━━━━━━━━━━━━━━━━━━━━━━━━━━━━━━\u001b[0m \u001b[32m49.5/49.5 kB\u001b[0m \u001b[31m1.7 MB/s\u001b[0m eta \u001b[36m0:00:00\u001b[0m\n",
            "\u001b[?25hInstalling collected packages: stevedore, rustworkx, qiskit\n",
            "Successfully installed qiskit-2.2.1 rustworkx-0.17.1 stevedore-5.5.0\n",
            "Collecting pylatexenc\n",
            "  Downloading pylatexenc-2.10.tar.gz (162 kB)\n",
            "\u001b[2K     \u001b[90m━━━━━━━━━━━━━━━━━━━━━━━━━━━━━━━━━━━━━━━\u001b[0m \u001b[32m162.6/162.6 kB\u001b[0m \u001b[31m5.8 MB/s\u001b[0m eta \u001b[36m0:00:00\u001b[0m\n",
            "\u001b[?25h  Preparing metadata (setup.py) ... \u001b[?25l\u001b[?25hdone\n",
            "Building wheels for collected packages: pylatexenc\n",
            "  Building wheel for pylatexenc (setup.py) ... \u001b[?25l\u001b[?25hdone\n",
            "  Created wheel for pylatexenc: filename=pylatexenc-2.10-py3-none-any.whl size=136817 sha256=2d1d905d48ba62133ebd58e14652ef29d3aabefde19a7014d92de7dd8f236616\n",
            "  Stored in directory: /root/.cache/pip/wheels/06/3e/78/fa1588c1ae991bbfd814af2bcac6cef7a178beee1939180d46\n",
            "Successfully built pylatexenc\n",
            "Installing collected packages: pylatexenc\n",
            "Successfully installed pylatexenc-2.10\n"
          ]
        }
      ]
    },
    {
      "cell_type": "code",
      "execution_count": null,
      "metadata": {
        "id": "O49_xBrPb7Yv"
      },
      "outputs": [],
      "source": [
        "from qiskit.circuit import QuantumCircuit, QuantumRegister, AncillaRegister, Qubit\n",
        "from qiskit.quantum_info import Statevector, Operator, random_unitary\n",
        "\n",
        "from qiskit.circuit.library.standard_gates import HGate, XGate\n",
        "from qiskit.circuit.library import RYGate, RZGate\n",
        "\n",
        "import matplotlib.pyplot as plt\n",
        "\n",
        "import numpy as np"
      ]
    },
    {
      "cell_type": "markdown",
      "source": [
        "#Z-Y Decomposition\n",
        "\n",
        "Recall the following single qubit gates:\n",
        "\n",
        "$R_y(\\theta) =\n",
        "\\begin{bmatrix}\n",
        "  \\cos(\\frac\\theta2) & -\\sin(\\frac\\theta2) \\\\\n",
        "  \\sin(\\frac\\theta2) & \\cos(\\frac\\theta2)\n",
        "\\end{bmatrix}$\n",
        "\n",
        "$R_z(\\theta) =\n",
        "\\begin{bmatrix}\n",
        "  e^{-i\\theta/2} & 0 \\\\\n",
        "  0 & e^{i\\theta/2}\n",
        "\\end{bmatrix}\n",
        "$\n",
        "\n",
        "The implementation of multi-controlled gates depends on the fact for any unitary $U$, there exist real numbers $\\alpha, \\beta, \\gamma, \\delta$ such that\n",
        "$U = e^{i\\alpha}R_z(\\beta)R_y(\\gamma)R_z(\\delta)$."
      ],
      "metadata": {
        "id": "62Qp7gQ47RYt"
      }
    },
    {
      "cell_type": "code",
      "source": [
        "def ZYDecomposition(U):\n",
        "  w,x,y,z = U[0][0], U[0][1], U[1][0], U[1][1]\n",
        "\n",
        "  gamma = 2*np.arccos(np.absolute(w))\n",
        "  a = np.angle(w)\n",
        "  b = np.angle(y/np.sin(gamma/2))\n",
        "  c = np.angle(z)\n",
        "  alpha = (a + c)/2\n",
        "  beta = b-a\n",
        "  delta = c-b\n",
        "\n",
        "  return alpha, beta, gamma, delta\n",
        "\n",
        "U = random_unitary(2).to_matrix()\n",
        "alpha, beta, gamma, delta = ZYDecomposition(U)\n",
        "U2 = np.exp(1j*alpha)*RZGate(beta).to_matrix() @ RYGate(gamma).to_matrix() @ RZGate(delta).to_matrix()"
      ],
      "metadata": {
        "id": "vQgpX4OU9il0"
      },
      "execution_count": null,
      "outputs": []
    },
    {
      "cell_type": "code",
      "source": [
        "#lets decompose a random unitary matrix\n",
        "U = random_unitary(2).to_matrix()\n",
        "U"
      ],
      "metadata": {
        "colab": {
          "base_uri": "https://localhost:8080/"
        },
        "id": "6OLSGKKVDyrg",
        "outputId": "b9e70dbf-bedc-4f20-febb-99da77918028"
      },
      "execution_count": null,
      "outputs": [
        {
          "output_type": "execute_result",
          "data": {
            "text/plain": [
              "array([[-0.43891314-0.12380929j,  0.88093809+0.12639067j],\n",
              "       [-0.88493037-0.09447088j, -0.45588596+0.01189455j]])"
            ]
          },
          "metadata": {},
          "execution_count": 86
        }
      ]
    },
    {
      "cell_type": "code",
      "source": [
        "alpha, beta, gamma, delta = ZYDecomposition(U)\n",
        "Z1 = RZGate(beta).to_matrix()\n",
        "Y = RYGate(gamma).to_matrix()\n",
        "Z2 = RZGate(delta).to_matrix()\n",
        "U2 = np.exp(1j*alpha)*Z1 @ Y @ Z2\n",
        "U2"
      ],
      "metadata": {
        "colab": {
          "base_uri": "https://localhost:8080/"
        },
        "id": "rdZ0-wFdD4GB",
        "outputId": "498684f7-d294-4c2c-c74a-5b9a89b224a4"
      },
      "execution_count": null,
      "outputs": [
        {
          "output_type": "execute_result",
          "data": {
            "text/plain": [
              "array([[-0.43891314-0.12380929j,  0.88093809+0.12639067j],\n",
              "       [-0.88493037-0.09447088j, -0.45588596+0.01189455j]])"
            ]
          },
          "metadata": {},
          "execution_count": 87
        }
      ]
    },
    {
      "cell_type": "markdown",
      "source": [
        "#Singly-Controlled Gate\n",
        "\n",
        "Given a single qubit gate $U$, we can implement the controlled version $CU$ by first obtaining $\\alpha, \\beta, \\gamma, \\delta$ as above and then noticing that for\n",
        "\n",
        "$A := R_z(\\beta)R_y(\\frac\\gamma 2)$\n",
        "\n",
        "$B := R_y(\\frac{-\\gamma} 2)R_z(\\frac{-\\delta - \\beta} 2)$\n",
        "\n",
        "$C := R_z(\\frac{\\delta - \\beta}2)$\n",
        "\n",
        "we have $ABC = I$ and $e^{i\\alpha}AXBXC = U$."
      ],
      "metadata": {
        "id": "CJAHhCYGEYbK"
      }
    },
    {
      "cell_type": "code",
      "source": [
        "def SingleControlledGate(U):\n",
        "  alpha, beta, gamma, delta = ZYDecomposition(U)\n",
        "  A = RZGate(beta).to_matrix() @ RYGate(gamma/2).to_matrix()\n",
        "  B = RYGate(-gamma/2).to_matrix() @ RZGate(-(delta + beta)/2).to_matrix()\n",
        "  C = RZGate((delta-beta)/2).to_matrix()\n",
        "\n",
        "  register = QuantumRegister(2,name=\"x\")\n",
        "  CU = QuantumCircuit(register, name=\"Controlled U\")\n",
        "  #apply C\n",
        "  CU.rz((delta-beta)/2, register[1])\n",
        "  #apply controlled X\n",
        "  CU.cx(register[0], register[1])\n",
        "  #apply B\n",
        "  CU.rz((-delta-beta)/2, register[1])\n",
        "  CU.ry(-gamma/2, register[1])\n",
        "  #apply controlled X\n",
        "  CU.cx(register[0], register[1])\n",
        "  #apply A\n",
        "  CU.ry(gamma/2, register[1])\n",
        "  CU.rz(beta, register[1])\n",
        "  CU.p(alpha, register[0])\n",
        "\n",
        "  return CU"
      ],
      "metadata": {
        "id": "3Bp-BdxGLThJ"
      },
      "execution_count": null,
      "outputs": []
    },
    {
      "cell_type": "code",
      "source": [
        "#let's confirm this implementation works\n",
        "U = random_unitary(2).to_matrix()\n",
        "U"
      ],
      "metadata": {
        "colab": {
          "base_uri": "https://localhost:8080/"
        },
        "id": "uhieu6Gmz59Q",
        "outputId": "4785a231-8c35-42fb-f102-a62f1132b880"
      },
      "execution_count": null,
      "outputs": [
        {
          "output_type": "execute_result",
          "data": {
            "text/plain": [
              "array([[-0.41095682-0.0622354j ,  0.90662857+0.07256642j],\n",
              "       [-0.90167999-0.11922434j, -0.41486867-0.02535236j]])"
            ]
          },
          "metadata": {},
          "execution_count": 89
        }
      ]
    },
    {
      "cell_type": "code",
      "source": [
        "CU = SingleControlledGate(U)\n",
        "CU.draw(output=\"mpl\", style=\"bw\")"
      ],
      "metadata": {
        "colab": {
          "base_uri": "https://localhost:8080/",
          "height": 191
        },
        "id": "gV1qMlHz0A6o",
        "outputId": "a938be85-ce40-4929-98ec-ffa292f7ed4b"
      },
      "execution_count": null,
      "outputs": [
        {
          "output_type": "execute_result",
          "data": {
            "text/plain": [
              "<Figure size 704.148x200.667 with 1 Axes>"
            ],
            "image/png": "[encoded data removed]"
          },
          "metadata": {},
          "execution_count": 90
        }
      ]
    },
    {
      "cell_type": "code",
      "source": [
        "np.round(Operator(CU).data, 3)"
      ],
      "metadata": {
        "colab": {
          "base_uri": "https://localhost:8080/"
        },
        "id": "c-J-A6ly0Owa",
        "outputId": "7911df02-4b02-4844-8261-5cb69760e408"
      },
      "execution_count": null,
      "outputs": [
        {
          "output_type": "execute_result",
          "data": {
            "text/plain": [
              "array([[ 1.   +0.j   ,  0.   +0.j   , -0.   -0.j   ,  0.   +0.j   ],\n",
              "       [ 0.   +0.j   , -0.411-0.062j,  0.   +0.j   ,  0.907+0.073j],\n",
              "       [ 0.   -0.j   ,  0.   +0.j   ,  1.   +0.j   ,  0.   +0.j   ],\n",
              "       [ 0.   +0.j   , -0.902-0.119j,  0.   +0.j   , -0.415-0.025j]])"
            ]
          },
          "metadata": {},
          "execution_count": 91
        }
      ]
    },
    {
      "cell_type": "markdown",
      "source": [
        "#Toffoli Gate\n",
        "\n",
        "The above construction of the singly-controlled gate $CU$ from $U$ can be iterated to obtain the doubly-controlled gate $CCU$. This implemmentation requires a number of single qubit gates which is exponential in the number of control qubits.\n",
        "\n",
        "More efficient implementations of multi-controlled gates can be built from Toffoli gates and singly-controlled gates."
      ],
      "metadata": {
        "id": "90g8JefH5KPG"
      }
    },
    {
      "cell_type": "code",
      "source": [
        "#TODO: Implement Toffoli Gate"
      ],
      "metadata": {
        "id": "cpJbMWIiykYh"
      },
      "execution_count": null,
      "outputs": []
    },
    {
      "cell_type": "markdown",
      "source": [
        "#Multi-Controlled Gate"
      ],
      "metadata": {
        "id": "pV9K7njkxocH"
      }
    },
    {
      "cell_type": "code",
      "source": [
        "def MultiControlledGate(n ,U):\n",
        "  control_register = QuantumRegister(size=n, name=\"x\")\n",
        "  ancilla_register = AncillaRegister(size=n-1, name=\"a\")\n",
        "  target_register = QuantumRegister(size=1, name=\"t\")\n",
        "\n",
        "  #prepares a subroutine which stores the conjunction of all the x[i]s in a[n-2]\n",
        "  setup = QuantumCircuit(control_register, ancilla_register, name=\"setup\")\n",
        "  setup.ccx(control_register[0], control_register[1], ancilla_register[0])\n",
        "  for i in range(2, n):\n",
        "    setup.ccx(control_register[i], ancilla_register[i-2], ancilla_register[i-1])\n",
        "\n",
        "  final = QuantumCircuit(control_register, ancilla_register, target_register, name=\"multicontrolledU\")\n",
        "  final.compose(setup, inplace=True)\n",
        "  final.append(SingleControlledGate(U).to_gate(), [ancilla_register[n-2], target_register[0]])\n",
        "  final.compose(setup.inverse(), inplace=True)\n",
        "\n",
        "  return final\n",
        "\n",
        "MultiControlledGate(3,U).draw(output=\"mpl\", style=\"bw\")"
      ],
      "metadata": {
        "id": "s_udlFuMxfki",
        "colab": {
          "base_uri": "https://localhost:8080/",
          "height": 449
        },
        "outputId": "b628b594-4e70-46c7-fe3f-988b43f8b162"
      },
      "execution_count": null,
      "outputs": [
        {
          "output_type": "execute_result",
          "data": {
            "text/plain": [
              "<Figure size 704.946x535.111 with 1 Axes>"
            ],
            "image/png": "[encoded data removed]"
          },
          "metadata": {},
          "execution_count": 38
        }
      ]
    },
    {
      "cell_type": "markdown",
      "source": [
        "This method is useful because the number of gates used is linear in the number of control qubits. It is also conceptually very clear: by storing the conjunction of all the control bits in the final ancilla bit, we only need one singly-controlled bit.\n",
        "The downside is that the number of ancilla qubits used is also linear in the number of control qubits.\n",
        "\n",
        "There is a clever way of  we give another implementation, in which the number of gates is still linear in the number of control qubits, but now now only two ancilla qubits are used."
      ],
      "metadata": {
        "id": "ckLZbhel9_R8"
      }
    },
    {
      "cell_type": "code",
      "source": [
        "def Flip_Base():\n",
        "  a_register = QuantumRegister(size=2)\n",
        "  b_register = QuantumRegister(size=1)\n",
        "  F = QuantumCircuit(a_register, b_register)\n",
        "  F.ccx(a_register[0], a_register[1], b_register[0])\n",
        "  return F\n",
        "\n",
        "def Flip(n):\n",
        "  if n == 2:\n",
        "    return Flip_Base()\n",
        "  a_register = QuantumRegister(size=n, name = \"a\")\n",
        "  b_register = QuantumRegister(size=n-1, name = \"b\")\n",
        "  F = QuantumCircuit(a_register, b_register)\n",
        "  F.ccx(a_register[0], b_register[1], b_register[0])\n",
        "  F.compose(Flip(n-1), a_register[1:] + b_register[1:])\n",
        "  F.ccx(a_register[0], b_register[1], b_register[0])\n",
        "  return F\n",
        "\n",
        "Flip(3).draw(output=\"mpl\", style=\"bw\")"
      ],
      "metadata": {
        "colab": {
          "base_uri": "https://localhost:8080/",
          "height": 384
        },
        "id": "TiMI9yJGMPeG",
        "outputId": "a0cdf4aa-2853-46f8-88a0-542318166fa9"
      },
      "execution_count": null,
      "outputs": [
        {
          "output_type": "execute_result",
          "data": {
            "text/plain": [
              "<Figure size 287.496x451.5 with 1 Axes>"
            ],
            "image/png": "[encoded data removed]"
          },
          "metadata": {},
          "execution_count": 106
        }
      ]
    },
    {
      "cell_type": "code",
      "source": [
        "def TestCircuit(n):\n",
        "  a_register = QuantumRegister(size=n, name = \"a\")\n",
        "  circuit = QuantumCircuit(a_register)\n",
        "  circuit.h(a_register)\n",
        "  return circuit"
      ],
      "metadata": {
        "id": "raZat7xLCG4w"
      },
      "execution_count": null,
      "outputs": []
    },
    {
      "cell_type": "code",
      "source": [
        "M = TestCircuit(5)\n",
        "N = TestCircuit(4)\n",
        "M.compose(N, M.qubits[1:]).draw(output=\"mpl\", style=\"bw\")"
      ],
      "metadata": {
        "colab": {
          "base_uri": "https://localhost:8080/",
          "height": 384
        },
        "id": "MzJ-p1QKK0Y3",
        "outputId": "0ee25ad8-2451-4c88-efb8-6f42e5a05842"
      },
      "execution_count": null,
      "outputs": [
        {
          "output_type": "execute_result",
          "data": {
            "text/plain": [
              "<Figure size 287.093x451.5 with 1 Axes>"
            ],
            "image/png": "[encoded data removed]"
          },
          "metadata": {},
          "execution_count": 102
        }
      ]
    }
  ]
}