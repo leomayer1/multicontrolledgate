{
  "nbformat": 4,
  "nbformat_minor": 0,
  "metadata": {
    "colab": {
      "provenance": [],
      "authorship_tag": "ABX9TyO1lreAc8Spn/TJ6TyJWnZF"
    },
    "kernelspec": {
      "name": "python3",
      "display_name": "Python 3"
    },
    "language_info": {
      "name": "python"
    }
  },
  "cells": [
    {
      "cell_type": "code",
      "source": [
        "#necessary if running in Google Colab\n",
        "%pip install qiskit\n",
        "%pip install pylatexenc"
      ],
      "metadata": {
        "colab": {
          "base_uri": "https://localhost:8080/"
        },
        "id": "CiN2DfQwqLMt",
        "outputId": "deabcbf7-6b21-4215-8c78-560b48594b41",
        "collapsed": true
      },
      "execution_count": 2,
      "outputs": [
        {
          "output_type": "stream",
          "name": "stdout",
          "text": [
            "Collecting qiskit\n",
            "  Downloading qiskit-2.2.1-cp39-abi3-manylinux2014_x86_64.manylinux_2_17_x86_64.whl.metadata (12 kB)\n",
            "Collecting rustworkx>=0.15.0 (from qiskit)\n",
            "  Downloading rustworkx-0.17.1-cp39-abi3-manylinux_2_17_x86_64.manylinux2014_x86_64.whl.metadata (10 kB)\n",
            "Requirement already satisfied: numpy<3,>=1.17 in /usr/local/lib/python3.12/dist-packages (from qiskit) (2.0.2)\n",
            "Requirement already satisfied: scipy>=1.5 in /usr/local/lib/python3.12/dist-packages (from qiskit) (1.16.2)\n",
            "Requirement already satisfied: dill>=0.3 in /usr/local/lib/python3.12/dist-packages (from qiskit) (0.3.8)\n",
            "Collecting stevedore>=3.0.0 (from qiskit)\n",
            "  Downloading stevedore-5.5.0-py3-none-any.whl.metadata (2.2 kB)\n",
            "Requirement already satisfied: typing-extensions in /usr/local/lib/python3.12/dist-packages (from qiskit) (4.15.0)\n",
            "Downloading qiskit-2.2.1-cp39-abi3-manylinux2014_x86_64.manylinux_2_17_x86_64.whl (8.0 MB)\n",
            "\u001b[2K   \u001b[90m━━━━━━━━━━━━━━━━━━━━━━━━━━━━━━━━━━━━━━━━\u001b[0m \u001b[32m8.0/8.0 MB\u001b[0m \u001b[31m61.9 MB/s\u001b[0m eta \u001b[36m0:00:00\u001b[0m\n",
            "\u001b[?25hDownloading rustworkx-0.17.1-cp39-abi3-manylinux_2_17_x86_64.manylinux2014_x86_64.whl (2.2 MB)\n",
            "\u001b[2K   \u001b[90m━━━━━━━━━━━━━━━━━━━━━━━━━━━━━━━━━━━━━━━━\u001b[0m \u001b[32m2.2/2.2 MB\u001b[0m \u001b[31m24.3 MB/s\u001b[0m eta \u001b[36m0:00:00\u001b[0m\n",
            "\u001b[?25hDownloading stevedore-5.5.0-py3-none-any.whl (49 kB)\n",
            "\u001b[2K   \u001b[90m━━━━━━━━━━━━━━━━━━━━━━━━━━━━━━━━━━━━━━━━\u001b[0m \u001b[32m49.5/49.5 kB\u001b[0m \u001b[31m3.2 MB/s\u001b[0m eta \u001b[36m0:00:00\u001b[0m\n",
            "\u001b[?25hInstalling collected packages: stevedore, rustworkx, qiskit\n",
            "Successfully installed qiskit-2.2.1 rustworkx-0.17.1 stevedore-5.5.0\n",
            "Collecting pylatexenc\n",
            "  Downloading pylatexenc-2.10.tar.gz (162 kB)\n",
            "\u001b[2K     \u001b[90m━━━━━━━━━━━━━━━━━━━━━━━━━━━━━━━━━━━━━━━\u001b[0m \u001b[32m162.6/162.6 kB\u001b[0m \u001b[31m5.7 MB/s\u001b[0m eta \u001b[36m0:00:00\u001b[0m\n",
            "\u001b[?25h  Preparing metadata (setup.py) ... \u001b[?25l\u001b[?25hdone\n",
            "Building wheels for collected packages: pylatexenc\n",
            "  Building wheel for pylatexenc (setup.py) ... \u001b[?25l\u001b[?25hdone\n",
            "  Created wheel for pylatexenc: filename=pylatexenc-2.10-py3-none-any.whl size=136817 sha256=de5fae27afd3711956d197d6dc9b654f97c97c0b2fc8c98204797482f2ab0597\n",
            "  Stored in directory: /root/.cache/pip/wheels/06/3e/78/fa1588c1ae991bbfd814af2bcac6cef7a178beee1939180d46\n",
            "Successfully built pylatexenc\n",
            "Installing collected packages: pylatexenc\n",
            "Successfully installed pylatexenc-2.10\n"
          ]
        }
      ]
    },
    {
      "cell_type": "code",
      "execution_count": 3,
      "metadata": {
        "id": "O49_xBrPb7Yv"
      },
      "outputs": [],
      "source": [
        "from qiskit.circuit import QuantumCircuit, QuantumRegister, AncillaRegister, Qubit\n",
        "from qiskit.quantum_info import Statevector, Operator, random_unitary\n",
        "\n",
        "from qiskit.circuit.library.standard_gates import HGate, XGate\n",
        "from qiskit.circuit.library import RYGate, RZGate\n",
        "\n",
        "import matplotlib.pyplot as plt\n",
        "\n",
        "import numpy as np"
      ]
    },
    {
      "cell_type": "markdown",
      "source": [
        "#Z-Y Decomposition\n",
        "\n",
        "Recall the following single qubit gates:\n",
        "\n",
        "$R_y(\\theta) =\n",
        "\\begin{bmatrix}\n",
        "  \\cos(\\frac\\theta2) & -\\sin(\\frac\\theta2) \\\\\n",
        "  \\sin(\\frac\\theta2) & \\cos(\\frac\\theta2)\n",
        "\\end{bmatrix}$\n",
        "\n",
        "$R_z(\\theta) =\n",
        "\\begin{bmatrix}\n",
        "  e^{-i\\theta/2} & 0 \\\\\n",
        "  0 & e^{i\\theta/2}\n",
        "\\end{bmatrix}\n",
        "$\n",
        "\n",
        "The implementation of multi-controlled gates depends on the fact for any unitary $U$, there exist real numbers $\\alpha, \\beta, \\gamma, \\delta$ such that\n",
        "$U = e^{i\\alpha}R_z(\\beta)R_y(\\gamma)R_z(\\delta)$."
      ],
      "metadata": {
        "id": "62Qp7gQ47RYt"
      }
    },
    {
      "cell_type": "code",
      "source": [
        "def ZYDecomposition(U):\n",
        "  w,x,y,z = U[0][0], U[0][1], U[1][0], U[1][1]\n",
        "\n",
        "  gamma = 2*np.arccos(np.absolute(w))\n",
        "  a = np.angle(w)\n",
        "  b = np.angle(y/np.sin(gamma/2))\n",
        "  c = np.angle(z)\n",
        "  alpha = (a + c)/2\n",
        "  beta = b-a\n",
        "  delta = c-b\n",
        "\n",
        "  return alpha, beta, gamma, delta\n",
        "\n",
        "U = random_unitary(2).to_matrix()\n",
        "alpha, beta, gamma, delta = ZYDecomposition(U)\n",
        "U2 = np.exp(1j*alpha)*RZGate(beta).to_matrix() @ RYGate(gamma).to_matrix() @ RZGate(delta).to_matrix()"
      ],
      "metadata": {
        "id": "vQgpX4OU9il0"
      },
      "execution_count": 4,
      "outputs": []
    },
    {
      "cell_type": "code",
      "source": [
        "#let's decompose a random unitary matrix\n",
        "U = random_unitary(2).to_matrix()\n",
        "U"
      ],
      "metadata": {
        "colab": {
          "base_uri": "https://localhost:8080/"
        },
        "id": "6OLSGKKVDyrg",
        "outputId": "0e80a297-78f5-46de-c40e-d373945ce831"
      },
      "execution_count": 24,
      "outputs": [
        {
          "output_type": "execute_result",
          "data": {
            "text/plain": [
              "array([[ 0.50378858-0.07363903j,  0.55666785-0.65642613j],\n",
              "       [ 0.43797184+0.740915j  , -0.48414968-0.15755865j]])"
            ]
          },
          "metadata": {},
          "execution_count": 24
        }
      ]
    },
    {
      "cell_type": "code",
      "source": [
        "alpha, beta, gamma, delta = ZYDecomposition(U)\n",
        "Z1 = RZGate(beta).to_matrix()\n",
        "Y = RYGate(gamma).to_matrix()\n",
        "Z2 = RZGate(delta).to_matrix()\n",
        "U2 = np.exp(1j*alpha)*Z1 @ Y @ Z2\n",
        "U2"
      ],
      "metadata": {
        "colab": {
          "base_uri": "https://localhost:8080/"
        },
        "id": "rdZ0-wFdD4GB",
        "outputId": "738f2857-bb92-410f-c174-64b8edcb6f53"
      },
      "execution_count": 25,
      "outputs": [
        {
          "output_type": "execute_result",
          "data": {
            "text/plain": [
              "array([[ 0.50378858-0.07363903j,  0.55666785-0.65642613j],\n",
              "       [ 0.43797184+0.740915j  , -0.48414968-0.15755865j]])"
            ]
          },
          "metadata": {},
          "execution_count": 25
        }
      ]
    },
    {
      "cell_type": "markdown",
      "source": [
        "#Singly-Controlled Gate\n",
        "\n",
        "Given a single qubit gate $U$, we can implement the controlled version $CU$ by first obtaining $\\alpha, \\beta, \\gamma, \\delta$ as above and then noticing that for\n",
        "\n",
        "$A := R_z(\\beta)R_y(\\frac\\gamma 2)$\n",
        "\n",
        "$B := R_y(\\frac{-\\gamma} 2)R_z(\\frac{-\\delta - \\beta} 2)$\n",
        "\n",
        "$C := R_z(\\frac{\\delta - \\beta}2)$\n",
        "\n",
        "we have $ABC = I$ and $e^{i\\alpha}AXBXC = U$."
      ],
      "metadata": {
        "id": "CJAHhCYGEYbK"
      }
    },
    {
      "cell_type": "code",
      "source": [
        "def SingleControlledGate(U):\n",
        "  alpha, beta, gamma, delta = ZYDecomposition(U)\n",
        "  A = RZGate(beta).to_matrix() @ RYGate(gamma/2).to_matrix()\n",
        "  B = RYGate(-gamma/2).to_matrix() @ RZGate(-(delta + beta)/2).to_matrix()\n",
        "  C = RZGate((delta-beta)/2).to_matrix()\n",
        "\n",
        "  register = QuantumRegister(2,name=\"x\")\n",
        "  CU = QuantumCircuit(register, name=\"Controlled U\")\n",
        "  #apply C\n",
        "  CU.rz((delta-beta)/2, register[1])\n",
        "  #apply controlled X\n",
        "  CU.cx(register[0], register[1])\n",
        "  #apply B\n",
        "  CU.rz((-delta-beta)/2, register[1])\n",
        "  CU.ry(-gamma/2, register[1])\n",
        "  #apply controlled X\n",
        "  CU.cx(register[0], register[1])\n",
        "  #apply A\n",
        "  CU.ry(gamma/2, register[1])\n",
        "  CU.rz(beta, register[1])\n",
        "  CU.p(alpha, register[0])\n",
        "\n",
        "  return CU"
      ],
      "metadata": {
        "id": "3Bp-BdxGLThJ"
      },
      "execution_count": 27,
      "outputs": []
    },
    {
      "cell_type": "code",
      "source": [
        "#let's confirm this implementation works\n",
        "U = random_unitary(2).to_matrix()\n",
        "U"
      ],
      "metadata": {
        "colab": {
          "base_uri": "https://localhost:8080/"
        },
        "id": "uhieu6Gmz59Q",
        "outputId": "7938d718-6d55-4219-a047-4480c89943ef"
      },
      "execution_count": 28,
      "outputs": [
        {
          "output_type": "execute_result",
          "data": {
            "text/plain": [
              "array([[-0.57973072+0.2665186j ,  0.62416978-0.45087939j],\n",
              "       [-0.52697204-0.56140948j, -0.5184253 -0.37196112j]])"
            ]
          },
          "metadata": {},
          "execution_count": 28
        }
      ]
    },
    {
      "cell_type": "code",
      "source": [
        "CU = SingleControlledGate(U)\n",
        "CU.draw(output=\"mpl\", style=\"bw\")"
      ],
      "metadata": {
        "colab": {
          "base_uri": "https://localhost:8080/",
          "height": 191
        },
        "id": "gV1qMlHz0A6o",
        "outputId": "fae7bb97-153e-423d-faf3-a9d1764f63b1"
      },
      "execution_count": 29,
      "outputs": [
        {
          "output_type": "execute_result",
          "data": {
            "text/plain": [
              "<Figure size 704.148x200.667 with 1 Axes>"
            ],
            "image/png": "[encoded data removed]"
          },
          "metadata": {},
          "execution_count": 29
        }
      ]
    },
    {
      "cell_type": "code",
      "source": [
        "np.round(Operator(CU).data, 3)"
      ],
      "metadata": {
        "colab": {
          "base_uri": "https://localhost:8080/"
        },
        "id": "c-J-A6ly0Owa",
        "outputId": "7911df02-4b02-4844-8261-5cb69760e408"
      },
      "execution_count": null,
      "outputs": [
        {
          "output_type": "execute_result",
          "data": {
            "text/plain": [
              "array([[ 1.   +0.j   ,  0.   +0.j   , -0.   -0.j   ,  0.   +0.j   ],\n",
              "       [ 0.   +0.j   , -0.411-0.062j,  0.   +0.j   ,  0.907+0.073j],\n",
              "       [ 0.   -0.j   ,  0.   +0.j   ,  1.   +0.j   ,  0.   +0.j   ],\n",
              "       [ 0.   +0.j   , -0.902-0.119j,  0.   +0.j   , -0.415-0.025j]])"
            ]
          },
          "metadata": {},
          "execution_count": 91
        }
      ]
    },
    {
      "cell_type": "markdown",
      "source": [
        "#Toffoli Gate\n",
        "\n",
        "The above construction of the singly-controlled gate $CU$ from $U$ can be iterated to obtain the doubly-controlled gate $CCU$. This implemmentation requires a number of single qubit gates which is exponential in the number of control qubits.\n",
        "\n",
        "More efficient implementations of multi-controlled gates can be built from Toffoli gates and singly-controlled gates. For completeness, here is an example of an implementation of the Toffoli gate."
      ],
      "metadata": {
        "id": "90g8JefH5KPG"
      }
    },
    {
      "cell_type": "code",
      "source": [
        "toffoli_register = QuantumRegister(size=3, name=\"a\")\n",
        "toffoli_circuit = QuantumCircuit(toffoli_register)\n",
        "toffoli_circuit.h(toffoli_register[2])\n",
        "toffoli_circuit.cx(toffoli_register[1], toffoli_register[2])\n",
        "toffoli_circuit.tdg(toffoli_register[2])\n",
        "toffoli_circuit.cx(toffoli_register[0], toffoli_register[2])\n",
        "toffoli_circuit.t(toffoli_register[2])\n",
        "toffoli_circuit.cx(toffoli_register[1],toffoli_register[2])\n",
        "toffoli_circuit.tdg(toffoli_register[2])\n",
        "toffoli_circuit.cx(toffoli_register[0],toffoli_register[2])\n",
        "toffoli_circuit.t(toffoli_register[2])\n",
        "toffoli_circuit.tdg(toffoli_register[1])\n",
        "toffoli_circuit.h(toffoli_register[2])\n",
        "toffoli_circuit.cx(toffoli_register[0],toffoli_register[1])\n",
        "toffoli_circuit.tdg(toffoli_register[1])\n",
        "toffoli_circuit.cx(toffoli_register[0],toffoli_register[1])\n",
        "toffoli_circuit.t(toffoli_register[0])\n",
        "toffoli_circuit.s(toffoli_register[1])\n",
        "\n",
        "toffoli_circuit.draw(output=\"mpl\", style=\"bw\")"
      ],
      "metadata": {
        "id": "cpJbMWIiykYh",
        "colab": {
          "base_uri": "https://localhost:8080/",
          "height": 255
        },
        "outputId": "7ae57663-e60b-4d8d-fda9-209cb3414c83"
      },
      "execution_count": 17,
      "outputs": [
        {
          "output_type": "execute_result",
          "data": {
            "text/plain": [
              "<Figure size 1123.2x284.278 with 1 Axes>"
            ],
            "image/png": "[encoded data removed]"
          },
          "metadata": {},
          "execution_count": 17
        }
      ]
    },
    {
      "cell_type": "code",
      "source": [
        "np.round(np.real(Operator(toffoli_circuit).data))"
      ],
      "metadata": {
        "colab": {
          "base_uri": "https://localhost:8080/"
        },
        "id": "VfLhBjyLylET",
        "outputId": "5534dcd0-3d50-4c1b-c07e-e78c5068c543"
      },
      "execution_count": 18,
      "outputs": [
        {
          "output_type": "execute_result",
          "data": {
            "text/plain": [
              "array([[1., 0., 0., 0., 0., 0., 0., 0.],\n",
              "       [0., 1., 0., 0., 0., 0., 0., 0.],\n",
              "       [0., 0., 1., 0., 0., 0., 0., 0.],\n",
              "       [0., 0., 0., 0., 0., 0., 0., 1.],\n",
              "       [0., 0., 0., 0., 1., 0., 0., 0.],\n",
              "       [0., 0., 0., 0., 0., 1., 0., 0.],\n",
              "       [0., 0., 0., 0., 0., 0., 1., 0.],\n",
              "       [0., 0., 0., 1., 0., 0., 0., 0.]])"
            ]
          },
          "metadata": {},
          "execution_count": 18
        }
      ]
    },
    {
      "cell_type": "markdown",
      "source": [
        "#Multi-Controlled Gate"
      ],
      "metadata": {
        "id": "pV9K7njkxocH"
      }
    },
    {
      "cell_type": "code",
      "source": [
        "def MultiControlledGate(n ,U):\n",
        "  control_register = QuantumRegister(size=n, name=\"x\")\n",
        "  ancilla_register = AncillaRegister(size=n-1, name=\"a\")\n",
        "  target_register = QuantumRegister(size=1, name=\"t\")\n",
        "\n",
        "  #prepares a subroutine which stores the conjunction of all the x[i]s in a[n-2]\n",
        "  setup = QuantumCircuit(control_register, ancilla_register, name=\"setup\")\n",
        "  setup.ccx(control_register[0], control_register[1], ancilla_register[0])\n",
        "  for i in range(2, n):\n",
        "    setup.ccx(control_register[i], ancilla_register[i-2], ancilla_register[i-1])\n",
        "\n",
        "  final = QuantumCircuit(control_register, ancilla_register, target_register, name=\"multicontrolledU\")\n",
        "  final.compose(setup, inplace=True)\n",
        "  final.append(SingleControlledGate(U).to_gate(), [ancilla_register[n-2], target_register[0]])\n",
        "  final.compose(setup.inverse(), inplace=True)\n",
        "\n",
        "  return final\n",
        "\n",
        "MultiControlledGate(3,U).draw(output=\"mpl\", style=\"bw\")"
      ],
      "metadata": {
        "id": "s_udlFuMxfki",
        "colab": {
          "base_uri": "https://localhost:8080/",
          "height": 449
        },
        "outputId": "94a27eed-2a36-4911-93b0-a16f1e2c3928"
      },
      "execution_count": 30,
      "outputs": [
        {
          "output_type": "execute_result",
          "data": {
            "text/plain": [
              "<Figure size 704.946x535.111 with 1 Axes>"
            ],
            "image/png": "[encoded data removed]"
          },
          "metadata": {},
          "execution_count": 30
        }
      ]
    },
    {
      "cell_type": "markdown",
      "source": [
        "This method is useful because the number of gates used is linear in the number of control qubits. It is also conceptually very clear: by storing the conjunction of all the control bits in the final ancilla bit, we only need one singly-controlled bit.\n",
        "The downside is that the number of ancilla qubits used is also linear in the number of control qubits.\n",
        "\n",
        "There is a clever way of computing the conjunction of all the control bits which uses just two ancilla qubits. We give another implementation using this trick, and now the number of gates is still linear in the number of control qubits, but the number of ancillas is constant."
      ],
      "metadata": {
        "id": "ckLZbhel9_R8"
      }
    },
    {
      "cell_type": "code",
      "source": [
        "def Flip(n):\n",
        "  a_register = QuantumRegister(size=n, name = \"a\")\n",
        "  b_register = QuantumRegister(size=n-1, name = \"b\")\n",
        "  F = QuantumCircuit(a_register, b_register, name=\"Flip\" + str(n))\n",
        "  for i in range(n-2):\n",
        "    F.ccx(a_register[n-1-i], b_register[n-3-i], b_register[n-2-i])\n",
        "  F.ccx(a_register[0], a_register[1], b_register[0])\n",
        "  for i in range(n-2):\n",
        "    F.ccx(a_register[i+2], b_register[i], b_register[i+1])\n",
        "  return F\n",
        "\n",
        "Flip(3).draw(output=\"mpl\", style=\"bw\")"
      ],
      "metadata": {
        "colab": {
          "base_uri": "https://localhost:8080/",
          "height": 384
        },
        "id": "TiMI9yJGMPeG",
        "outputId": "fdcaa49c-74e1-4070-e1fb-e7a3f877ae8a"
      },
      "execution_count": 20,
      "outputs": [
        {
          "output_type": "execute_result",
          "data": {
            "text/plain": [
              "<Figure size 371.107x451.5 with 1 Axes>"
            ],
            "image/png": "[encoded data removed]"
          },
          "metadata": {},
          "execution_count": 20
        }
      ]
    },
    {
      "cell_type": "code",
      "source": [
        "def AndTemp(n):\n",
        "  a_register = QuantumRegister(size=n, name = \"a\")\n",
        "  b_register = QuantumRegister(size=1, name = \"b\")\n",
        "  c_register = QuantumRegister(size=n-2, name = \"c\")\n",
        "  andtemp_circuit = QuantumCircuit(a_register, b_register, c_register, name=\"AndTemp\" + str(n))\n",
        "\n",
        "  andtemp_circuit.compose(Flip(n).to_gate(), inplace=True)\n",
        "  andtemp_circuit.compose(Flip(n-1).to_gate(), qubits=list(range(n-1)) + list(range(n+1,2*n-1)), inplace=True)\n",
        "  return andtemp_circuit\n",
        "\n",
        "AndTemp(4).draw(output=\"mpl\", style = \"bw\")\n",
        "#Flip(3).draw()"
      ],
      "metadata": {
        "colab": {
          "base_uri": "https://localhost:8080/",
          "height": 513
        },
        "id": "kCcfSmukoXNW",
        "outputId": "e113781a-121a-4351-81fc-d487a4c178fc"
      },
      "execution_count": 31,
      "outputs": [
        {
          "output_type": "execute_result",
          "data": {
            "text/plain": [
              "<Figure size 454.315x618.722 with 1 Axes>"
            ],
            "image/png": "[encoded data removed]"
          },
          "metadata": {},
          "execution_count": 31
        }
      ]
    },
    {
      "cell_type": "code",
      "source": [
        "def And(n):\n",
        "  a_register = QuantumRegister(size=n, name = \"a\")\n",
        "  b_register = QuantumRegister(size=1, name = \"b\")\n",
        "  and_circuit = QuantumCircuit(a_register, b_register, name=\"And\" + str(n))\n",
        "\n",
        "  #TODO finish this implementation\n",
        "\n",
        "  return and_circuit"
      ],
      "metadata": {
        "id": "_59ODeyP1xMG"
      },
      "execution_count": 32,
      "outputs": []
    },
    {
      "cell_type": "code",
      "source": [
        "def MultiControlledGate2(n ,U):\n",
        "  control_register = QuantumRegister(size=n, name=\"x\")\n",
        "  target_register = QuantumRegister(size=1, name=\"t\")\n",
        "  ancilla_register = AncillaRegister(size=1, name=\"a\")\n",
        "\n",
        "  multicontrolled_circuit = QuantumCircuit(control_register, ancilla_register, target_register)\n",
        "\n",
        "  #store the conjunction of all the x[i]s in a\n",
        "  multicontrolled_circuit.compose(And(n).to_gate(), inplace=True)\n",
        "  multicontrolled_circuit.compose(SingleControlledGate(U).to_gate(), qubits= [ancilla_register[0], target_register[0]], inplace=True)\n",
        "  multicontrolled_circuit.compose(And(n).to_gate(), inplace=True)\n",
        "\n",
        "  return multicontrolled_circuit\n",
        "\n",
        "MultiControlledGate2(3,U).draw(output=\"mpl\", style=\"bw\")"
      ],
      "metadata": {
        "colab": {
          "base_uri": "https://localhost:8080/",
          "height": 384
        },
        "id": "uYI-69xn3W9j",
        "outputId": "a157807c-241b-48a3-b973-62285b8a9ba0"
      },
      "execution_count": 47,
      "outputs": [
        {
          "output_type": "execute_result",
          "data": {
            "text/plain": [
              "<Figure size 704.35x451.5 with 1 Axes>"
            ],
            "image/png": "[encoded data removed]"
          },
          "metadata": {},
          "execution_count": 47
        }
      ]
    }
  ]
}